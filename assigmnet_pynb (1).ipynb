{
  "nbformat": 4,
  "nbformat_minor": 0,
  "metadata": {
    "colab": {
      "provenance": []
    },
    "kernelspec": {
      "name": "python3",
      "display_name": "Python 3"
    },
    "language_info": {
      "name": "python"
    }
  },
  "cells": [
    {
      "cell_type": "code",
      "execution_count": null,
      "metadata": {
        "id": "s3q_xvrsmePK"
      },
      "outputs": [],
      "source": [
        "# What is Python, and why is it popular\n",
        " answer =# python is a popular programming language. It was created by Guido van Rossum, and released in 1991.\n",
        "         # 1.python is easy to learn and it is widely used language in industry.\n",
        "         # 2. Readablity - syntax is designed to be simple and easy to understand.\n",
        "         # 3. Versitality -Python is a general-purpose language used in diverse fields, including web development, data science , and artificial intelligence.\n",
        "\n"
      ]
    },
    {
      "cell_type": "markdown",
      "source": [],
      "metadata": {
        "id": "mNBfyGFw9noL"
      }
    },
    {
      "cell_type": "code",
      "source": [
        "# What is an interpreter in Python?\n",
        "answer =  # In Python, an interpreter is a program that reads and executes Python code line by line, for the results. interpreters translate and execute code at runtime."
      ],
      "metadata": {
        "id": "2sFr_6GzrrH6"
      },
      "execution_count": null,
      "outputs": []
    },
    {
      "cell_type": "code",
      "source": [
        "#What are pre-defined keywords in Python ?\n",
        "answer = # Python has a set of keywords that are reserved words that have special meanings it cannot be used as variable names, function names, or any other identifiers.\n",
        "         #Keywords are used to define the syntax of the coding."
      ],
      "metadata": {
        "id": "AbY9yTPBtz77"
      },
      "execution_count": null,
      "outputs": []
    },
    {
      "cell_type": "code",
      "source": [
        "# Can keywords be used as variable names ?\n",
        "answer # No, Keywords define the language's syntax rules and structure, and they cannot be used as variable names.\n",
        "        # If a keyword is used as a variable name, Python will raise a SyntaxError.\n"
      ],
      "metadata": {
        "id": "Kh3W8hJ5wIYF"
      },
      "execution_count": null,
      "outputs": []
    },
    {
      "cell_type": "code",
      "source": [
        "# What is mutability in Python ?\n",
        "# answer # Mutability in Python refers to the ability of an object to be modified after it is created. If an object is mutable, its value can be changed without creating a new object."
      ],
      "metadata": {
        "id": "1t90IQvZw_Je"
      },
      "execution_count": null,
      "outputs": []
    },
    {
      "cell_type": "code",
      "source": [
        "# Why are lists mutable, but tuples are immutable ?\n",
        " answer # list and tuple are the type of data structure\n",
        " #They can store heterogeneous data types, including numbers, strings, and even other lists or tuples.\n",
        " #list is mutable because we can modifie the element which are stored inside list. but in tuple we can only store a data which cannot we change like addhar card number and employee id which are once assign it will never be change, this is why list is mutable and tuple is immutable."
      ],
      "metadata": {
        "id": "2nRokM3xx76T"
      },
      "execution_count": null,
      "outputs": []
    },
    {
      "cell_type": "code",
      "source": [
        "# What is the difference between “==” and “is” operators in Python?\n",
        "answer  #  '==' (comparision operator): It checks if the values of two objects are equal. It compares the content of the objects.\n",
        "         # 'is' (identity operator): It checks if two variables refer to the same object in memory. It compares the memory location of the objects.\n",
        "\n",
        "\n",
        "\n"
      ],
      "metadata": {
        "id": "QCb42-Yx1uHd"
      },
      "execution_count": null,
      "outputs": []
    },
    {
      "cell_type": "code",
      "source": [
        "# What are logical operators in Python ?\n",
        "#answer # Logical operators in Python are used to combine or modify boolean expressions (True or False). There are three main logical operators: and, or, and not.\n"
      ],
      "metadata": {
        "id": "KSxs3Z823fCf"
      },
      "execution_count": null,
      "outputs": []
    },
    {
      "cell_type": "code",
      "source": [
        "# What is type casting in Python  ?\n",
        " answer # Type casting, also known as type conversion, is the process of changing a variable's data type into another data type."
      ],
      "metadata": {
        "id": "XSSZ7jCW4cQz"
      },
      "execution_count": null,
      "outputs": []
    },
    {
      "cell_type": "code",
      "source": [
        "# What is the difference between implicit and explicit type casting ?\n",
        " answer # Implicit type casting: The Python interpreter automatically converts one data type to another without any user involvement. This usually happens when performing operations between different data types. For example, when adding an integer and a float, Python will implicitly convert the integer to a float before performing the addition.\n",
        "         #Explicit type casting: The user manually converts the data type using built-in functions such as int(), float(), and str(). This is useful when you need to control the data type of a variable."
      ],
      "metadata": {
        "id": "90LnI9KS5Ng2"
      },
      "execution_count": null,
      "outputs": []
    },
    {
      "cell_type": "code",
      "source": [
        " # What is the purpose of conditional statements in Python ?\n",
        " answer #Conditional statements in Python enable programs to make decisions and execute different code blocks based on whether specific conditions are met.\n",
        " # They control the flow of execution, allowing programs to respond dynamically to varying inputs and situations.\n",
        " # The primary conditional statements in Python are if, elif, and else."
      ],
      "metadata": {
        "id": "PS3N0Wo86P7w"
      },
      "execution_count": null,
      "outputs": []
    },
    {
      "cell_type": "code",
      "source": [
        "# How does the elif statement work ?\n",
        "#answer The elif statement in Python is used in conjunction with if and optionally else to create a chain of conditional checks. It allows for multiple conditions to be evaluated sequentially. If the initial if condition is false, the interpreter proceeds to check the elif conditions. If an elif condition is true, its corresponding block of code is executed, and the rest of the elif and else blocks are skipped. If none of the if or elif conditions are true, and an else block is present, the code within the else block is executed."
      ],
      "metadata": {
        "id": "Xa1TQmvM9AyM"
      },
      "execution_count": null,
      "outputs": []
    },
    {
      "cell_type": "code",
      "source": [
        "# What is the difference between for and while loops\n",
        "answer # A for loop is typically used when the number of iterations is known beforehand, and it iterates over a sequence or range.\n",
        "        #A while loop, on the other hand, repeats a block of code until a condition becomes false, making it suitable when the number of iterations is not predetermined."
      ],
      "metadata": {
        "id": "LEnpOHl9-HWv"
      },
      "execution_count": null,
      "outputs": []
    },
    {
      "cell_type": "code",
      "source": [
        "# Describe a scenario where a while loop is more suitable than a for loop.\n",
        "answer #In programming, for loops are best used when you know the number of iterations ahead of time, whereas a while loop is best used when you don't know the number of iterations in advance. Both methods can help you iterate through your code."
      ],
      "metadata": {
        "id": "CaTfkU3e_vWl"
      },
      "execution_count": null,
      "outputs": []
    },
    {
      "cell_type": "code",
      "source": [
        "# Write a Python program to print \"Hello, World!\n"
      ],
      "metadata": {
        "id": "tedtPJxrAPSS"
      },
      "execution_count": null,
      "outputs": []
    },
    {
      "cell_type": "code",
      "source": [
        "print (\" hello world\")"
      ],
      "metadata": {
        "colab": {
          "base_uri": "https://localhost:8080/"
        },
        "id": "huxnnmmFAbRa",
        "outputId": "aeaac853-7d80-464f-ab64-93c16195077c"
      },
      "execution_count": null,
      "outputs": [
        {
          "output_type": "stream",
          "name": "stdout",
          "text": [
            " hello world\n"
          ]
        }
      ]
    },
    {
      "cell_type": "code",
      "source": [
        "# Write code to print all the pre-defined keywords in Python using the keyword library8"
      ],
      "metadata": {
        "id": "LlFxLuiFAfy_"
      },
      "execution_count": null,
      "outputs": []
    },
    {
      "cell_type": "code",
      "source": [
        "name = \"namita\"\n",
        "age = 22\n",
        "\n",
        "print(\"Name:\", name)\n",
        "print(\"Age:\", age)"
      ],
      "metadata": {
        "colab": {
          "base_uri": "https://localhost:8080/"
        },
        "id": "18C3VmWEAvvl",
        "outputId": "78e4e5ce-9406-4af1-bce9-07208f36736f"
      },
      "execution_count": null,
      "outputs": [
        {
          "output_type": "stream",
          "name": "stdout",
          "text": [
            "Name: namita\n",
            "Age: 22\n"
          ]
        }
      ]
    },
    {
      "cell_type": "code",
      "source": [
        "# Write code to print all the pre-defined keywords in Python using the keyword library"
      ],
      "metadata": {
        "id": "wdpRnSSgBirc"
      },
      "execution_count": null,
      "outputs": []
    },
    {
      "cell_type": "code",
      "source": [
        "import keyword\n",
        "\n",
        "print(keyword.kwlist)"
      ],
      "metadata": {
        "colab": {
          "base_uri": "https://localhost:8080/"
        },
        "id": "3dPKSRmhA2YH",
        "outputId": "08409db2-83c6-4887-ab99-698e2c568dd1"
      },
      "execution_count": null,
      "outputs": [
        {
          "output_type": "stream",
          "name": "stdout",
          "text": [
            "['False', 'None', 'True', 'and', 'as', 'assert', 'async', 'await', 'break', 'class', 'continue', 'def', 'del', 'elif', 'else', 'except', 'finally', 'for', 'from', 'global', 'if', 'import', 'in', 'is', 'lambda', 'nonlocal', 'not', 'or', 'pass', 'raise', 'return', 'try', 'while', 'with', 'yield']\n"
          ]
        }
      ]
    },
    {
      "cell_type": "code",
      "source": [
        "# Write a program that checks if a given word is a Python keyword.\n"
      ],
      "metadata": {
        "id": "NHd9UyzQC1E2"
      },
      "execution_count": null,
      "outputs": []
    },
    {
      "cell_type": "code",
      "source": [
        "\n",
        "\n",
        "words = [\"if\", \"else\", \"for\", \"while\", \"hello\"]\n",
        "for word in words:\n",
        "    if keyword.iskeyword(word):\n",
        "        print(f\"'{word}' is a Python keyword.\")\n",
        "    else:\n",
        "        print(f\"'{word}' is not a Python keyword.\")"
      ],
      "metadata": {
        "colab": {
          "base_uri": "https://localhost:8080/"
        },
        "id": "ms2Y3XQKC2Qk",
        "outputId": "185a1be4-30aa-4730-eefd-fc35c82ba0e8"
      },
      "execution_count": null,
      "outputs": [
        {
          "output_type": "stream",
          "name": "stdout",
          "text": [
            "'if' is a Python keyword.\n",
            "'else' is a Python keyword.\n",
            "'for' is a Python keyword.\n",
            "'while' is a Python keyword.\n",
            "'hello' is not a Python keyword.\n"
          ]
        }
      ]
    },
    {
      "cell_type": "code",
      "source": [
        "#Create a list and tuple in Python, and demonstrate how attempting to change an element works differently\n",
        "for each\n",
        "\n",
        "my_list = [1, 2, 3]\n",
        "print(\"Original list:\", my_list)\n",
        "\n",
        "# Modifying an element in the list\n",
        "my_list[1] = 10\n",
        "print(\"Modified list:\", my_list)\n",
        "\n",
        "# Creating a tuple\n",
        "my_tuple = (4, 5, 6)\n",
        "print(\"Original tuple:\", my_tuple)\n",
        "\n",
        "# Attempting to modify an element in the tuple\n",
        "try:\n",
        "    my_tuple[1] = 20\n",
        "except TypeError as e:\n",
        "    print(\"Error:\", e)"
      ],
      "metadata": {
        "colab": {
          "base_uri": "https://localhost:8080/"
        },
        "id": "H6YCObcYDyOo",
        "outputId": "2fd3c5b0-ec7e-4d15-a152-b9c12b1e91c5"
      },
      "execution_count": null,
      "outputs": [
        {
          "output_type": "stream",
          "name": "stdout",
          "text": [
            "Original list: [1, 2, 3]\n",
            "Modified list: [1, 10, 3]\n",
            "Original tuple: (4, 5, 6)\n",
            "Error: 'tuple' object does not support item assignment\n"
          ]
        }
      ]
    },
    {
      "cell_type": "code",
      "source": [
        "# Write a function to demonstrate the behavior of mutable and immutable argumentsdef modify_args(immutable, mutable):\n",
        "    immutable += 10\n",
        "    mutable.append(3)\n",
        "    mutable = [4, 5, 6]\n",
        "    print(\"Inside function:\")\n",
        "    print(\"Immutable:\", immutable)\n",
        "    print(\"Mutable:\", mutable)\n",
        "\n",
        "# Immutable argument (integer)\n",
        "num = 5\n",
        "# Mutable argument (list)\n",
        "my_list = [1, 2]\n",
        "\n",
        "print(\"Before function call:\")\n",
        "print(\"Immutable:\", num)\n",
        "print(\"Mutable:\", my_list)\n",
        "\n",
        "modify_args(num, my_list)\n",
        "\n",
        "print(\"After function call:\")\n",
        "print(\"Immutable:\", num)\n",
        "print(\"Mutable:\", my_list)"
      ],
      "metadata": {
        "colab": {
          "base_uri": "https://localhost:8080/"
        },
        "id": "HvgYcg83HDfZ",
        "outputId": "35af2c1c-b027-449f-f7aa-5c9697f706f6"
      },
      "execution_count": null,
      "outputs": [
        {
          "output_type": "stream",
          "name": "stdout",
          "text": [
            "Before function call:\n",
            "Immutable: 5\n",
            "Mutable: [1, 2]\n",
            "Inside function:\n",
            "Immutable: 15\n",
            "Mutable: [4, 5, 6]\n",
            "After function call:\n",
            "Immutable: 5\n",
            "Mutable: [1, 2, 3]\n"
          ]
        }
      ]
    },
    {
      "cell_type": "code",
      "source": [
        "# Write a program that performs basic arithmetic operations on two user-input numbers.\n",
        "\n",
        "\n",
        "def perform_arithmetic(num1, num2, operation):\n",
        "    \"\"\"\n",
        "    Performs basic arithmetic operations on two numbers.\n",
        "\n",
        "    Args:\n",
        "        num1: The first number.\n",
        "        num2: The second number.\n",
        "        operation: The arithmetic operation to perform ('+', '-', '*', '/').\n",
        "\n",
        "    Returns:\n",
        "        The result of the operation, or None if the operation is invalid.\n",
        "    \"\"\"\n",
        "    if operation == '+':\n",
        "        return num1 + num2\n",
        "    elif operation == '-':\n",
        "        return num1 - num2\n",
        "    elif operation == '*':\n",
        "        return num1 * num2\n",
        "    elif operation == '/':\n",
        "        if num2 == 0:\n",
        "            print(\"Error: Cannot divide by zero.\")\n",
        "            return None\n",
        "        else:\n",
        "            return num1 / num2\n",
        "    else:\n",
        "        print(\"Invalid operation. Please use +, -, *, or /.\")\n",
        "        return None\n",
        "\n",
        "# Get input from the user\n",
        "try:\n",
        "    num1 = float(input(\"Enter the first number: \"))\n",
        "    num2 = float(input(\"Enter the second number: \"))\n",
        "    operation = input(\"Enter the operation (+, -, *, /): \")\n",
        "\n",
        "    result = perform_arithmetic(num1, num2, operation)\n",
        "\n",
        "    if result is not None:\n",
        "        print(f\"The result is: {result}\")\n",
        "\n",
        "except ValueError:\n",
        "    print(\"Invalid input. Please enter valid numbers.\")"
      ],
      "metadata": {
        "colab": {
          "base_uri": "https://localhost:8080/"
        },
        "id": "nWx4m5veHNPq",
        "outputId": "c7831a76-d907-49f8-e339-504899a7b4f3"
      },
      "execution_count": null,
      "outputs": [
        {
          "output_type": "stream",
          "name": "stdout",
          "text": [
            "Enter the first number: 3\n",
            "Enter the second number: 7\n",
            "Enter the operation (+, -, *, /): -\n",
            "The result is: -4.0\n"
          ]
        }
      ]
    },
    {
      "cell_type": "code",
      "source": [
        "# Write a program to demonstrate the use of logical operators.\n",
        "a = True\n",
        "b = False\n",
        "\n",
        "# Logical AND\n",
        "print(\"a and b:\", a and b)  # Output: False\n",
        "\n",
        "# Logical OR\n",
        "print(\"a or b:\", a or b)   # Output: True\n",
        "\n",
        "# Logical NOT\n",
        "print(\"not a:\", not a)      # Output: False\n",
        "print(\"not b:\", not b)      # Output: True\n",
        "\n",
        "# Combining logical operators\n",
        "x = 5\n",
        "y = 10\n",
        "print(\"x > 0 and y < 15:\", x > 0 and y < 15)  # Output: True\n",
        "print(\"x < 0 or y > 5:\", x < 0 or y > 5)   # Output: True\n",
        "print(\"not(x > 0 and y < 15):\", not (x > 0 and y < 15)) # Output: False\n"
      ],
      "metadata": {
        "colab": {
          "base_uri": "https://localhost:8080/"
        },
        "id": "dzsimfWOJVVi",
        "outputId": "e94549d1-ad72-4ae1-ac24-89e02ef0a7ec"
      },
      "execution_count": null,
      "outputs": [
        {
          "output_type": "stream",
          "name": "stdout",
          "text": [
            "a and b: False\n",
            "a or b: True\n",
            "not a: False\n",
            "not b: True\n",
            "x > 0 and y < 15: True\n",
            "x < 0 or y > 5: True\n",
            "not(x > 0 and y < 15): False\n"
          ]
        }
      ]
    },
    {
      "cell_type": "code",
      "source": [
        "def convert_input(input_string):\n",
        "    try:\n",
        "        integer_value = int(input_string)\n",
        "        print(f\"Integer: {integer_value}\")\n",
        "    except ValueError:\n",
        "        print(\"Not an integer.\")\n",
        "\n",
        "    try:\n",
        "        float_value = float(input_string)\n",
        "        print(f\"Float: {float_value}\")\n",
        "    except ValueError:\n",
        "        print(\"Not a float.\")\n",
        "\n",
        "    if input_string.lower() == \"true\":\n",
        "        bool_value = True\n",
        "        print(f\"Boolean: {bool_value}\")\n",
        "    elif input_string.lower() == \"false\":\n",
        "         bool_value = False\n",
        "         print(f\"Boolean: {bool_value}\")\n",
        "    else:\n",
        "        print(\"Not a boolean.\")\n",
        "\n",
        "user_input = input(\"Enter a value: \")\n",
        "convert_input(user_input)"
      ],
      "metadata": {
        "colab": {
          "base_uri": "https://localhost:8080/"
        },
        "id": "nLvfU86SJlAv",
        "outputId": "2b88d264-64c0-4153-80e0-9fdaadd6588c"
      },
      "execution_count": null,
      "outputs": [
        {
          "output_type": "stream",
          "name": "stdout",
          "text": [
            "Enter a value: 7\n",
            "Integer: 7\n",
            "Float: 7.0\n",
            "Not a boolean.\n"
          ]
        }
      ]
    },
    {
      "cell_type": "code",
      "source": [
        "#  Write code to demonstrate type casting with list elements.\n",
        "my_list = ['1', '2', '3', '4.5', 'hello', '6']\n",
        "\n",
        "# Convert string elements to integers\n",
        "int_list = []\n",
        "for item in my_list:\n",
        "    if item.isdigit():\n",
        "        int_list.append(int(item))\n",
        "\n",
        "print(\"List of integers:\", int_list)\n",
        "\n",
        "# Convert string and int elements to floats\n",
        "float_list = []\n",
        "for item in my_list:\n",
        "    try:\n",
        "        float_list.append(float(item))\n",
        "    except ValueError:\n",
        "        pass\n",
        "\n",
        "print(\"List of floats:\", float_list)\n",
        "\n",
        "# Convert all elements to strings\n",
        "str_list = []\n",
        "for item in my_list:\n",
        "    str_list.append(str(item))\n",
        "\n",
        "print(\"List of strings:\", str_list)"
      ],
      "metadata": {
        "colab": {
          "base_uri": "https://localhost:8080/"
        },
        "id": "MvuddKn8KJV5",
        "outputId": "9052ff2e-371f-4844-93c3-710b2c76fc38"
      },
      "execution_count": null,
      "outputs": [
        {
          "output_type": "stream",
          "name": "stdout",
          "text": [
            "List of integers: [1, 2, 3, 6]\n",
            "List of floats: [1.0, 2.0, 3.0, 4.5, 6.0]\n",
            "List of strings: ['1', '2', '3', '4.5', 'hello', '6']\n"
          ]
        }
      ]
    },
    {
      "cell_type": "code",
      "source": [
        " #Write a program that checks if a number is positive, negative, or zero.\n",
        "num = float(input(\"Enter a number: \"))\n",
        "if num > 0:\n",
        "   print(\"Positive number\")\n",
        "elif num == 0:\n",
        "   print(\"Zero\")\n",
        "else:\n",
        "   print(\"Negative number\")\n"
      ],
      "metadata": {
        "colab": {
          "base_uri": "https://localhost:8080/"
        },
        "id": "E8ogWchAKX5o",
        "outputId": "c512bf33-6a18-4f12-a710-5ccd9d08e7d7"
      },
      "execution_count": null,
      "outputs": [
        {
          "output_type": "stream",
          "name": "stdout",
          "text": [
            "Enter a number: 5\n",
            "Positive number\n"
          ]
        }
      ]
    },
    {
      "cell_type": "code",
      "source": [
        "# Write a for loop to print numbers from 1 to 10\n",
        "for i in range(1, 11):\n",
        "    print(i)\n"
      ],
      "metadata": {
        "colab": {
          "base_uri": "https://localhost:8080/"
        },
        "id": "URwcJy7iK0uN",
        "outputId": "faf77255-09a7-4520-d4d5-bad25556f9ff"
      },
      "execution_count": null,
      "outputs": [
        {
          "output_type": "stream",
          "name": "stdout",
          "text": [
            "1\n",
            "2\n",
            "3\n",
            "4\n",
            "5\n",
            "6\n",
            "7\n",
            "8\n",
            "9\n",
            "10\n"
          ]
        }
      ]
    },
    {
      "cell_type": "code",
      "source": [
        "# Write a Python program to find the sum of all even numbers between 1 and 50.\n",
        "\n",
        "\n",
        "sum_even = 0\n",
        "for num in range(2, 51, 2):\n",
        "    sum_even += num\n",
        "print(sum_even)"
      ],
      "metadata": {
        "colab": {
          "base_uri": "https://localhost:8080/"
        },
        "id": "gAG3RHipLmAZ",
        "outputId": "1640a89b-b648-406a-c47d-a69f37b75b02"
      },
      "execution_count": null,
      "outputs": [
        {
          "output_type": "stream",
          "name": "stdout",
          "text": [
            "650\n"
          ]
        }
      ]
    },
    {
      "cell_type": "code",
      "source": [
        "\n"
      ],
      "metadata": {
        "id": "y6paoatxL8gU"
      },
      "execution_count": null,
      "outputs": []
    },
    {
      "cell_type": "code",
      "source": [
        "#Write a program to reverse a string using a while loop\n",
        "def reverse_string(s):\n",
        "    reversed_s = \"\"\n",
        "    length = len(s) - 1\n",
        "    while length >= 0:\n",
        "        reversed_s += s[length]\n",
        "        length -= 1\n",
        "    return reversed_s\n",
        "\n",
        "input_string = \"Hello, World!\"\n",
        "reversed_string = reverse_string(input_string)\n",
        "print(f\"Original string: {input_string}\")\n",
        "print(f\"Reversed string: {reversed_string}\n",
        "\n"
      ],
      "metadata": {
        "colab": {
          "base_uri": "https://localhost:8080/"
        },
        "id": "lAXsoGx3MbxJ",
        "outputId": "d811f716-3f9c-4d56-bff2-aca283a5ae23"
      },
      "execution_count": null,
      "outputs": [
        {
          "output_type": "stream",
          "name": "stdout",
          "text": [
            "Original string: Hello, World!\n",
            "Reversed string: !dlroW ,olleH\n"
          ]
        }
      ]
    },
    {
      "cell_type": "code",
      "source": [
        "# Write a Python program to calculate the factorial of a number provided by the user using a while loop.\n",
        "number = int(input(\"Enter a number: \"))\n",
        "factorial = 1\n",
        "\n",
        "if number < 0:\n",
        "    print(\"Factorial cannot be calculated for negative numbers.\")\n",
        "elif number == 0:\n",
        "    print(\"The factorial of 0 is 1\")\n",
        "else:\n",
        "    while number > 0:\n",
        "        factorial *= number\n",
        "        number -= 1\n",
        "    print(\"The factorial is\", factorial)"
      ],
      "metadata": {
        "colab": {
          "base_uri": "https://localhost:8080/"
        },
        "id": "ztq1M-srMzl0",
        "outputId": "92a4be9a-b9b2-496a-81f1-d68c80cb8ddc"
      },
      "execution_count": null,
      "outputs": [
        {
          "output_type": "stream",
          "name": "stdout",
          "text": [
            "Enter a number: 7\n",
            "The factorial is 5040\n"
          ]
        }
      ]
    },
    {
      "cell_type": "code",
      "source": [],
      "metadata": {
        "id": "XrAfFueXNmar"
      },
      "execution_count": null,
      "outputs": []
    }
  ]
}